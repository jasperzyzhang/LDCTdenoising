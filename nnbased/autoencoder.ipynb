{
 "cells": [
  {
   "cell_type": "code",
   "execution_count": 161,
   "id": "b4c72c87",
   "metadata": {},
   "outputs": [],
   "source": [
    "#convert dicom CT image to jpg format and downsample to 128 * 128\n",
    "import numpy as np\n",
    "import matplotlib.pyplot as plt\n",
    "import pydicom\n",
    "from typing import Tuple\n",
    "from PIL import Image\n",
    "import glob\n",
    "from pathlib import Path\n",
    "import os\n",
    "import keras\n",
    "from keras import layers\n",
    "from keras.datasets import mnist\n",
    "import matplotlib.pyplot as plt"
   ]
  },
  {
   "cell_type": "code",
   "execution_count": 162,
   "id": "38d767fd",
   "metadata": {},
   "outputs": [],
   "source": [
    "#load data\n",
    "data_path =  '/Users/jasperzzz/Library/CloudStorage/OneDrive-UniversityofToronto/BiostatPhD/Year1/Fall&Y_courses/CSC2529ComputImage/data/'\n",
    "ct256path = data_path + \"processed4people/256/\"\n",
    "full_list = sorted([f for f in os.listdir(ct256path ) if f.endswith('Full.png')])\n",
    "low_list = sorted([f for f in os.listdir(ct256path ) if f.endswith('Low.png')])\n",
    "\n",
    "img_dirs = os.listdir(ct256path )\n",
    "full = []\n",
    "low = []\n",
    "\n",
    "for name in full_list:\n",
    "    img_path = os.path.join( ct256path, name ) \n",
    "    image = Image.open( img_path ).convert( 'L' ) \n",
    "    full.append(np.asarray(image))\n",
    "    \n",
    "for name in low_list:\n",
    "    img_path = os.path.join( ct256path, name ) \n",
    "    image = Image.open( img_path ).convert( 'L' ) \n",
    "    low.append(np.asarray(image))\n",
    "#store iamges as array\n",
    "full = np.asarray(full)\n",
    "low = np.asarray(low)"
   ]
  },
  {
   "cell_type": "code",
   "execution_count": 139,
   "id": "e6c64997",
   "metadata": {},
   "outputs": [
    {
     "data": {
      "text/plain": [
       "'N005_img256_1-02._Low.png'"
      ]
     },
     "execution_count": 139,
     "metadata": {},
     "output_type": "execute_result"
    }
   ],
   "source": [
    "low_list[1]"
   ]
  },
  {
   "cell_type": "code",
   "execution_count": 129,
   "id": "b7aad42c",
   "metadata": {},
   "outputs": [],
   "source": [
    "name = 'N005_img256_1-02._Low.jpg'\n",
    "img_path = os.path.join( ct256path, name ) \n",
    "image = Image.open( img_path ).convert( 'L' ) \n",
    "iarray = np.asarray(image)\n"
   ]
  },
  {
   "cell_type": "code",
   "execution_count": 166,
   "id": "2b2adc45",
   "metadata": {},
   "outputs": [
    {
     "data": {
      "text/plain": [
       "array([[[1, 1, 1, ..., 1, 1, 0],\n",
       "        [1, 1, 1, ..., 1, 1, 1],\n",
       "        [1, 1, 1, ..., 1, 1, 1],\n",
       "        ...,\n",
       "        [1, 1, 1, ..., 7, 7, 6],\n",
       "        [1, 1, 1, ..., 5, 6, 5],\n",
       "        [0, 1, 1, ..., 4, 3, 2]],\n",
       "\n",
       "       [[2, 2, 1, ..., 1, 2, 1],\n",
       "        [2, 2, 2, ..., 2, 1, 2],\n",
       "        [2, 1, 2, ..., 1, 1, 2],\n",
       "        ...,\n",
       "        [1, 2, 2, ..., 3, 3, 2],\n",
       "        [1, 1, 1, ..., 3, 3, 2],\n",
       "        [1, 1, 1, ..., 3, 3, 3]],\n",
       "\n",
       "       [[2, 1, 1, ..., 1, 2, 2],\n",
       "        [1, 2, 2, ..., 2, 2, 1],\n",
       "        [1, 1, 2, ..., 2, 2, 1],\n",
       "        ...,\n",
       "        [1, 1, 1, ..., 4, 5, 4],\n",
       "        [1, 1, 2, ..., 5, 5, 5],\n",
       "        [2, 2, 2, ..., 4, 3, 3]],\n",
       "\n",
       "       ...,\n",
       "\n",
       "       [[2, 2, 2, ..., 1, 1, 1],\n",
       "        [2, 2, 2, ..., 1, 1, 2],\n",
       "        [2, 2, 2, ..., 1, 1, 1],\n",
       "        ...,\n",
       "        [1, 2, 2, ..., 2, 2, 2],\n",
       "        [2, 2, 2, ..., 2, 2, 2],\n",
       "        [2, 2, 1, ..., 2, 2, 2]],\n",
       "\n",
       "       [[2, 2, 2, ..., 1, 1, 1],\n",
       "        [1, 2, 2, ..., 1, 1, 2],\n",
       "        [2, 2, 2, ..., 1, 1, 2],\n",
       "        ...,\n",
       "        [2, 2, 2, ..., 0, 0, 0],\n",
       "        [2, 2, 2, ..., 0, 0, 0],\n",
       "        [2, 2, 2, ..., 0, 0, 0]],\n",
       "\n",
       "       [[4, 3, 4, ..., 3, 3, 3],\n",
       "        [4, 3, 4, ..., 2, 3, 3],\n",
       "        [4, 4, 4, ..., 2, 3, 3],\n",
       "        ...,\n",
       "        [4, 4, 4, ..., 2, 2, 2],\n",
       "        [4, 4, 4, ..., 3, 2, 2],\n",
       "        [4, 4, 4, ..., 2, 2, 2]]], dtype=uint8)"
      ]
     },
     "execution_count": 166,
     "metadata": {},
     "output_type": "execute_result"
    }
   ],
   "source": []
  },
  {
   "cell_type": "code",
   "execution_count": null,
   "id": "4627e764",
   "metadata": {},
   "outputs": [],
   "source": []
  },
  {
   "cell_type": "code",
   "execution_count": 168,
   "id": "47e3fbc9",
   "metadata": {},
   "outputs": [],
   "source": [
    "x_train = full\n",
    "x_test = low"
   ]
  },
  {
   "cell_type": "code",
   "execution_count": 41,
   "id": "c5c71bf4",
   "metadata": {},
   "outputs": [
    {
     "name": "stdout",
     "output_type": "stream",
     "text": [
      "256\n"
     ]
    }
   ],
   "source": [
    "dimension = x_train.shape[1]\n",
    "print(dimension)"
   ]
  },
  {
   "cell_type": "code",
   "execution_count": 165,
   "id": "48b1d34e",
   "metadata": {},
   "outputs": [
    {
     "name": "stdout",
     "output_type": "stream",
     "text": [
      "9.274685e-13\n"
     ]
    },
    {
     "data": {
      "text/plain": [
       "0.0"
      ]
     },
     "execution_count": 165,
     "metadata": {},
     "output_type": "execute_result"
    }
   ],
   "source": [
    "print(np.max(x_test[1,:,:,0]))\n",
    "np.min(x_test[1,:,:,0])"
   ]
  },
  {
   "cell_type": "code",
   "execution_count": null,
   "id": "1eace4f2",
   "metadata": {},
   "outputs": [],
   "source": []
  },
  {
   "cell_type": "code",
   "execution_count": null,
   "id": "c75df848",
   "metadata": {},
   "outputs": [],
   "source": []
  },
  {
   "cell_type": "code",
   "execution_count": null,
   "id": "1f81ec94",
   "metadata": {},
   "outputs": [],
   "source": []
  },
  {
   "cell_type": "code",
   "execution_count": 169,
   "id": "9ca864b0",
   "metadata": {},
   "outputs": [],
   "source": [
    "norm_factor = 255.\n",
    "x_train = x_train.astype('float32')/norm_factor\n",
    "x_test = x_test.astype('float32')/norm_factor\n",
    "x_train = np.reshape(x_train, (len(x_train), dimension, dimension, 1))\n",
    "x_test = np.reshape(x_test, (len(x_test), dimension, dimension, 1))"
   ]
  },
  {
   "cell_type": "code",
   "execution_count": 170,
   "id": "14b62dd7",
   "metadata": {},
   "outputs": [
    {
     "data": {
      "text/plain": [
       "array([[[[0.00392157],\n",
       "         [0.00392157],\n",
       "         [0.00392157],\n",
       "         ...,\n",
       "         [0.00392157],\n",
       "         [0.00392157],\n",
       "         [0.        ]],\n",
       "\n",
       "        [[0.00392157],\n",
       "         [0.00392157],\n",
       "         [0.00392157],\n",
       "         ...,\n",
       "         [0.00392157],\n",
       "         [0.00392157],\n",
       "         [0.00392157]],\n",
       "\n",
       "        [[0.00392157],\n",
       "         [0.00392157],\n",
       "         [0.00392157],\n",
       "         ...,\n",
       "         [0.00392157],\n",
       "         [0.00392157],\n",
       "         [0.00392157]],\n",
       "\n",
       "        ...,\n",
       "\n",
       "        [[0.00392157],\n",
       "         [0.00392157],\n",
       "         [0.00392157],\n",
       "         ...,\n",
       "         [0.02352941],\n",
       "         [0.02352941],\n",
       "         [0.02352941]],\n",
       "\n",
       "        [[0.00392157],\n",
       "         [0.00392157],\n",
       "         [0.00392157],\n",
       "         ...,\n",
       "         [0.02352941],\n",
       "         [0.01960784],\n",
       "         [0.01960784]],\n",
       "\n",
       "        [[0.00392157],\n",
       "         [0.00392157],\n",
       "         [0.00392157],\n",
       "         ...,\n",
       "         [0.01568628],\n",
       "         [0.01176471],\n",
       "         [0.00784314]]],\n",
       "\n",
       "\n",
       "       [[[0.00784314],\n",
       "         [0.00784314],\n",
       "         [0.00784314],\n",
       "         ...,\n",
       "         [0.00784314],\n",
       "         [0.00392157],\n",
       "         [0.00784314]],\n",
       "\n",
       "        [[0.00784314],\n",
       "         [0.00784314],\n",
       "         [0.00784314],\n",
       "         ...,\n",
       "         [0.00784314],\n",
       "         [0.00392157],\n",
       "         [0.00784314]],\n",
       "\n",
       "        [[0.00392157],\n",
       "         [0.00784314],\n",
       "         [0.00784314],\n",
       "         ...,\n",
       "         [0.00392157],\n",
       "         [0.00784314],\n",
       "         [0.00392157]],\n",
       "\n",
       "        ...,\n",
       "\n",
       "        [[0.00784314],\n",
       "         [0.00392157],\n",
       "         [0.00392157],\n",
       "         ...,\n",
       "         [0.01176471],\n",
       "         [0.00784314],\n",
       "         [0.00784314]],\n",
       "\n",
       "        [[0.00392157],\n",
       "         [0.00392157],\n",
       "         [0.00392157],\n",
       "         ...,\n",
       "         [0.00784314],\n",
       "         [0.00784314],\n",
       "         [0.00784314]],\n",
       "\n",
       "        [[0.00392157],\n",
       "         [0.00392157],\n",
       "         [0.00392157],\n",
       "         ...,\n",
       "         [0.01176471],\n",
       "         [0.01176471],\n",
       "         [0.01176471]]],\n",
       "\n",
       "\n",
       "       [[[0.00784314],\n",
       "         [0.00784314],\n",
       "         [0.00784314],\n",
       "         ...,\n",
       "         [0.00784314],\n",
       "         [0.00784314],\n",
       "         [0.00784314]],\n",
       "\n",
       "        [[0.00784314],\n",
       "         [0.00784314],\n",
       "         [0.00784314],\n",
       "         ...,\n",
       "         [0.00784314],\n",
       "         [0.00784314],\n",
       "         [0.00392157]],\n",
       "\n",
       "        [[0.00392157],\n",
       "         [0.00784314],\n",
       "         [0.00784314],\n",
       "         ...,\n",
       "         [0.00392157],\n",
       "         [0.00784314],\n",
       "         [0.00784314]],\n",
       "\n",
       "        ...,\n",
       "\n",
       "        [[0.00392157],\n",
       "         [0.00392157],\n",
       "         [0.00392157],\n",
       "         ...,\n",
       "         [0.01568628],\n",
       "         [0.01960784],\n",
       "         [0.01960784]],\n",
       "\n",
       "        [[0.00392157],\n",
       "         [0.00392157],\n",
       "         [0.00392157],\n",
       "         ...,\n",
       "         [0.01960784],\n",
       "         [0.01960784],\n",
       "         [0.01568628]],\n",
       "\n",
       "        [[0.00784314],\n",
       "         [0.00784314],\n",
       "         [0.00392157],\n",
       "         ...,\n",
       "         [0.01568628],\n",
       "         [0.01568628],\n",
       "         [0.01176471]]],\n",
       "\n",
       "\n",
       "       ...,\n",
       "\n",
       "\n",
       "       [[[0.00784314],\n",
       "         [0.00784314],\n",
       "         [0.00784314],\n",
       "         ...,\n",
       "         [0.00392157],\n",
       "         [0.00392157],\n",
       "         [0.00392157]],\n",
       "\n",
       "        [[0.00784314],\n",
       "         [0.00784314],\n",
       "         [0.00784314],\n",
       "         ...,\n",
       "         [0.00392157],\n",
       "         [0.00392157],\n",
       "         [0.00392157]],\n",
       "\n",
       "        [[0.00784314],\n",
       "         [0.00784314],\n",
       "         [0.00784314],\n",
       "         ...,\n",
       "         [0.00392157],\n",
       "         [0.00392157],\n",
       "         [0.00392157]],\n",
       "\n",
       "        ...,\n",
       "\n",
       "        [[0.00784314],\n",
       "         [0.00784314],\n",
       "         [0.00784314],\n",
       "         ...,\n",
       "         [0.00784314],\n",
       "         [0.00784314],\n",
       "         [0.00784314]],\n",
       "\n",
       "        [[0.00784314],\n",
       "         [0.00784314],\n",
       "         [0.00784314],\n",
       "         ...,\n",
       "         [0.00784314],\n",
       "         [0.00784314],\n",
       "         [0.00784314]],\n",
       "\n",
       "        [[0.00784314],\n",
       "         [0.00784314],\n",
       "         [0.00784314],\n",
       "         ...,\n",
       "         [0.00784314],\n",
       "         [0.00784314],\n",
       "         [0.00784314]]],\n",
       "\n",
       "\n",
       "       [[[0.00784314],\n",
       "         [0.00784314],\n",
       "         [0.00784314],\n",
       "         ...,\n",
       "         [0.00392157],\n",
       "         [0.00392157],\n",
       "         [0.00784314]],\n",
       "\n",
       "        [[0.00784314],\n",
       "         [0.00784314],\n",
       "         [0.00784314],\n",
       "         ...,\n",
       "         [0.00392157],\n",
       "         [0.00784314],\n",
       "         [0.00784314]],\n",
       "\n",
       "        [[0.00784314],\n",
       "         [0.00784314],\n",
       "         [0.00784314],\n",
       "         ...,\n",
       "         [0.00392157],\n",
       "         [0.00392157],\n",
       "         [0.00784314]],\n",
       "\n",
       "        ...,\n",
       "\n",
       "        [[0.00784314],\n",
       "         [0.00784314],\n",
       "         [0.00784314],\n",
       "         ...,\n",
       "         [0.        ],\n",
       "         [0.        ],\n",
       "         [0.        ]],\n",
       "\n",
       "        [[0.00784314],\n",
       "         [0.00784314],\n",
       "         [0.00784314],\n",
       "         ...,\n",
       "         [0.        ],\n",
       "         [0.        ],\n",
       "         [0.        ]],\n",
       "\n",
       "        [[0.00784314],\n",
       "         [0.00784314],\n",
       "         [0.00784314],\n",
       "         ...,\n",
       "         [0.        ],\n",
       "         [0.        ],\n",
       "         [0.        ]]],\n",
       "\n",
       "\n",
       "       [[[0.01568628],\n",
       "         [0.01568628],\n",
       "         [0.01568628],\n",
       "         ...,\n",
       "         [0.01176471],\n",
       "         [0.01176471],\n",
       "         [0.01176471]],\n",
       "\n",
       "        [[0.01568628],\n",
       "         [0.01568628],\n",
       "         [0.01568628],\n",
       "         ...,\n",
       "         [0.01176471],\n",
       "         [0.01176471],\n",
       "         [0.01176471]],\n",
       "\n",
       "        [[0.01568628],\n",
       "         [0.01568628],\n",
       "         [0.01568628],\n",
       "         ...,\n",
       "         [0.01176471],\n",
       "         [0.01176471],\n",
       "         [0.01568628]],\n",
       "\n",
       "        ...,\n",
       "\n",
       "        [[0.01568628],\n",
       "         [0.01568628],\n",
       "         [0.01960784],\n",
       "         ...,\n",
       "         [0.00784314],\n",
       "         [0.00784314],\n",
       "         [0.00784314]],\n",
       "\n",
       "        [[0.01568628],\n",
       "         [0.01568628],\n",
       "         [0.01568628],\n",
       "         ...,\n",
       "         [0.00784314],\n",
       "         [0.00784314],\n",
       "         [0.00784314]],\n",
       "\n",
       "        [[0.01568628],\n",
       "         [0.01568628],\n",
       "         [0.01568628],\n",
       "         ...,\n",
       "         [0.00784314],\n",
       "         [0.00784314],\n",
       "         [0.00784314]]]], dtype=float32)"
      ]
     },
     "execution_count": 170,
     "metadata": {},
     "output_type": "execute_result"
    }
   ],
   "source": [
    "x_train"
   ]
  },
  {
   "cell_type": "code",
   "execution_count": null,
   "id": "630de952",
   "metadata": {},
   "outputs": [],
   "source": []
  },
  {
   "cell_type": "code",
   "execution_count": 171,
   "id": "0bc435f1",
   "metadata": {},
   "outputs": [],
   "source": [
    "from sklearn.model_selection import train_test_split\n",
    "x_train8, x_train2, x_test8, x_test2 = train_test_split(x_train, x_test, test_size=0.2, random_state=42)"
   ]
  },
  {
   "cell_type": "code",
   "execution_count": 172,
   "id": "1d21e37f",
   "metadata": {},
   "outputs": [],
   "source": [
    "input_img = keras.Input(shape = (dimension, dimension, 1))"
   ]
  },
  {
   "cell_type": "code",
   "execution_count": 173,
   "id": "2096f2f4",
   "metadata": {},
   "outputs": [],
   "source": [
    "x = layers.Conv2D(filters = 32, kernel_size = (3, 3), activation = 'relu', padding = 'same')(input_img)\n",
    "x = layers.MaxPooling2D(pool_size = (2, 2), padding = 'same')(x)\n",
    "x = layers.Conv2D(filters = 32, kernel_size = (3, 3), activation = 'relu', padding = 'same')(x)\n",
    "encoded = layers.MaxPooling2D(pool_size = (2, 2), padding = 'same')(x)"
   ]
  },
  {
   "cell_type": "code",
   "execution_count": 174,
   "id": "2137a7b7",
   "metadata": {},
   "outputs": [],
   "source": [
    "x = layers.Conv2D(filters = 32, kernel_size = (3, 3), activation = 'relu', padding = 'same')(encoded)\n",
    "x = layers.UpSampling2D(size = (2, 2))(x)\n",
    "x = layers.Conv2D(filters = 32, kernel_size = (3, 3), activation = 'relu', padding = 'same')(x)\n",
    "x = layers.UpSampling2D(size = (2, 2))(x)\n",
    "decoded = layers.Conv2D(filters = 1, kernel_size = (3, 3), activation = 'sigmoid', padding = 'same')(x)"
   ]
  },
  {
   "cell_type": "code",
   "execution_count": 175,
   "id": "bc880a9b",
   "metadata": {},
   "outputs": [],
   "source": [
    "autoencoder = keras.Model(input_img, decoded)"
   ]
  },
  {
   "cell_type": "code",
   "execution_count": 176,
   "id": "7c954eda",
   "metadata": {},
   "outputs": [],
   "source": [
    "#autoencoder.summary()"
   ]
  },
  {
   "cell_type": "code",
   "execution_count": 177,
   "id": "761cc593",
   "metadata": {},
   "outputs": [],
   "source": [
    "autoencoder.compile(optimizer='adam', loss='binary_crossentropy')"
   ]
  },
  {
   "cell_type": "code",
   "execution_count": 178,
   "id": "2e7bd3a7",
   "metadata": {},
   "outputs": [
    {
     "name": "stdout",
     "output_type": "stream",
     "text": [
      "Epoch 1/128\n"
     ]
    },
    {
     "name": "stderr",
     "output_type": "stream",
     "text": [
      "2022-11-28 13:11:36.484099: I tensorflow/core/grappler/optimizers/custom_graph_optimizer_registry.cc:112] Plugin optimizer for device_type GPU is enabled.\n"
     ]
    },
    {
     "name": "stdout",
     "output_type": "stream",
     "text": [
      "2/2 [==============================] - ETA: 0s - loss: 0.6907"
     ]
    },
    {
     "name": "stderr",
     "output_type": "stream",
     "text": [
      "2022-11-28 13:11:37.248872: I tensorflow/core/grappler/optimizers/custom_graph_optimizer_registry.cc:112] Plugin optimizer for device_type GPU is enabled.\n"
     ]
    },
    {
     "name": "stdout",
     "output_type": "stream",
     "text": [
      "2/2 [==============================] - 1s 776ms/step - loss: 0.6904 - val_loss: 0.6791\n",
      "Epoch 2/128\n",
      "2/2 [==============================] - 0s 319ms/step - loss: 0.6759 - val_loss: 0.6641\n",
      "Epoch 3/128\n",
      "2/2 [==============================] - 0s 330ms/step - loss: 0.6576 - val_loss: 0.6516\n",
      "Epoch 4/128\n",
      "2/2 [==============================] - 0s 322ms/step - loss: 0.6384 - val_loss: 0.6282\n",
      "Epoch 5/128\n",
      "2/2 [==============================] - 0s 326ms/step - loss: 0.6112 - val_loss: 0.5848\n",
      "Epoch 6/128\n",
      "2/2 [==============================] - 0s 337ms/step - loss: 0.5678 - val_loss: 0.5247\n",
      "Epoch 7/128\n",
      "2/2 [==============================] - 0s 334ms/step - loss: 0.5076 - val_loss: 0.4478\n",
      "Epoch 8/128\n",
      "2/2 [==============================] - 0s 334ms/step - loss: 0.4335 - val_loss: 0.3656\n",
      "Epoch 9/128\n",
      "2/2 [==============================] - 0s 327ms/step - loss: 0.3531 - val_loss: 0.3069\n",
      "Epoch 10/128\n",
      "2/2 [==============================] - 0s 338ms/step - loss: 0.2977 - val_loss: 0.2898\n",
      "Epoch 11/128\n",
      "2/2 [==============================] - 1s 333ms/step - loss: 0.2831 - val_loss: 0.2916\n",
      "Epoch 12/128\n",
      "2/2 [==============================] - 0s 331ms/step - loss: 0.2860 - val_loss: 0.2905\n",
      "Epoch 13/128\n",
      "2/2 [==============================] - 1s 335ms/step - loss: 0.2893 - val_loss: 0.2834\n",
      "Epoch 14/128\n",
      "2/2 [==============================] - 0s 330ms/step - loss: 0.2760 - val_loss: 0.2764\n",
      "Epoch 15/128\n",
      "2/2 [==============================] - 0s 335ms/step - loss: 0.2763 - val_loss: 0.2749\n",
      "Epoch 16/128\n",
      "2/2 [==============================] - 0s 329ms/step - loss: 0.2708 - val_loss: 0.2777\n",
      "Epoch 17/128\n",
      "2/2 [==============================] - 0s 324ms/step - loss: 0.2744 - val_loss: 0.2786\n",
      "Epoch 18/128\n",
      "2/2 [==============================] - 0s 332ms/step - loss: 0.2743 - val_loss: 0.2769\n",
      "Epoch 19/128\n",
      "2/2 [==============================] - 1s 338ms/step - loss: 0.2746 - val_loss: 0.2756\n",
      "Epoch 20/128\n",
      "2/2 [==============================] - 0s 328ms/step - loss: 0.2703 - val_loss: 0.2758\n",
      "Epoch 21/128\n",
      "2/2 [==============================] - 0s 332ms/step - loss: 0.2719 - val_loss: 0.2759\n",
      "Epoch 22/128\n",
      "2/2 [==============================] - 0s 322ms/step - loss: 0.2741 - val_loss: 0.2743\n",
      "Epoch 23/128\n",
      "2/2 [==============================] - 0s 336ms/step - loss: 0.2722 - val_loss: 0.2729\n",
      "Epoch 24/128\n",
      "2/2 [==============================] - 0s 336ms/step - loss: 0.2696 - val_loss: 0.2722\n",
      "Epoch 25/128\n",
      "2/2 [==============================] - 0s 332ms/step - loss: 0.2700 - val_loss: 0.2715\n",
      "Epoch 26/128\n",
      "2/2 [==============================] - 0s 334ms/step - loss: 0.2717 - val_loss: 0.2716\n",
      "Epoch 27/128\n",
      "2/2 [==============================] - 0s 332ms/step - loss: 0.2672 - val_loss: 0.2723\n",
      "Epoch 28/128\n",
      "2/2 [==============================] - 0s 334ms/step - loss: 0.2739 - val_loss: 0.2714\n",
      "Epoch 29/128\n",
      "2/2 [==============================] - 0s 332ms/step - loss: 0.2641 - val_loss: 0.2692\n",
      "Epoch 30/128\n",
      "2/2 [==============================] - 0s 334ms/step - loss: 0.2621 - val_loss: 0.2680\n",
      "Epoch 31/128\n",
      "2/2 [==============================] - 0s 332ms/step - loss: 0.2669 - val_loss: 0.2674\n",
      "Epoch 32/128\n",
      "2/2 [==============================] - 0s 334ms/step - loss: 0.2643 - val_loss: 0.2669\n",
      "Epoch 33/128\n",
      "2/2 [==============================] - 1s 342ms/step - loss: 0.2593 - val_loss: 0.2664\n",
      "Epoch 34/128\n",
      "2/2 [==============================] - 0s 334ms/step - loss: 0.2641 - val_loss: 0.2655\n",
      "Epoch 35/128\n",
      "2/2 [==============================] - 0s 334ms/step - loss: 0.2618 - val_loss: 0.2642\n",
      "Epoch 36/128\n",
      "2/2 [==============================] - 0s 331ms/step - loss: 0.2626 - val_loss: 0.2632\n",
      "Epoch 37/128\n",
      "2/2 [==============================] - 0s 334ms/step - loss: 0.2588 - val_loss: 0.2624\n",
      "Epoch 38/128\n",
      "2/2 [==============================] - 0s 333ms/step - loss: 0.2580 - val_loss: 0.2612\n",
      "Epoch 39/128\n",
      "2/2 [==============================] - 0s 333ms/step - loss: 0.2602 - val_loss: 0.2603\n",
      "Epoch 40/128\n",
      "2/2 [==============================] - 0s 336ms/step - loss: 0.2571 - val_loss: 0.2599\n",
      "Epoch 41/128\n",
      "2/2 [==============================] - 0s 331ms/step - loss: 0.2564 - val_loss: 0.2589\n",
      "Epoch 42/128\n",
      "2/2 [==============================] - 0s 328ms/step - loss: 0.2557 - val_loss: 0.2585\n",
      "Epoch 43/128\n",
      "2/2 [==============================] - 0s 326ms/step - loss: 0.2547 - val_loss: 0.2581\n",
      "Epoch 44/128\n",
      "2/2 [==============================] - 0s 332ms/step - loss: 0.2534 - val_loss: 0.2578\n",
      "Epoch 45/128\n",
      "2/2 [==============================] - 0s 328ms/step - loss: 0.2548 - val_loss: 0.2576\n",
      "Epoch 46/128\n",
      "2/2 [==============================] - 0s 332ms/step - loss: 0.2513 - val_loss: 0.2577\n",
      "Epoch 47/128\n",
      "2/2 [==============================] - 0s 327ms/step - loss: 0.2563 - val_loss: 0.2572\n",
      "Epoch 48/128\n",
      "2/2 [==============================] - 0s 325ms/step - loss: 0.2519 - val_loss: 0.2570\n",
      "Epoch 49/128\n",
      "2/2 [==============================] - 0s 334ms/step - loss: 0.2525 - val_loss: 0.2567\n",
      "Epoch 50/128\n",
      "2/2 [==============================] - 0s 329ms/step - loss: 0.2516 - val_loss: 0.2565\n",
      "Epoch 51/128\n",
      "2/2 [==============================] - 0s 340ms/step - loss: 0.2512 - val_loss: 0.2563\n",
      "Epoch 52/128\n",
      "2/2 [==============================] - 1s 337ms/step - loss: 0.2529 - val_loss: 0.2561\n",
      "Epoch 53/128\n",
      "2/2 [==============================] - 0s 336ms/step - loss: 0.2522 - val_loss: 0.2559\n",
      "Epoch 54/128\n",
      "2/2 [==============================] - 0s 333ms/step - loss: 0.2548 - val_loss: 0.2557\n",
      "Epoch 55/128\n",
      "2/2 [==============================] - 0s 338ms/step - loss: 0.2528 - val_loss: 0.2555\n",
      "Epoch 56/128\n",
      "2/2 [==============================] - 0s 327ms/step - loss: 0.2489 - val_loss: 0.2554\n",
      "Epoch 57/128\n",
      "2/2 [==============================] - 0s 333ms/step - loss: 0.2519 - val_loss: 0.2553\n",
      "Epoch 58/128\n",
      "2/2 [==============================] - 0s 327ms/step - loss: 0.2493 - val_loss: 0.2553\n",
      "Epoch 59/128\n",
      "2/2 [==============================] - 0s 338ms/step - loss: 0.2559 - val_loss: 0.2550\n",
      "Epoch 60/128\n",
      "2/2 [==============================] - 0s 332ms/step - loss: 0.2550 - val_loss: 0.2548\n",
      "Epoch 61/128\n",
      "2/2 [==============================] - 0s 333ms/step - loss: 0.2463 - val_loss: 0.2546\n",
      "Epoch 62/128\n",
      "2/2 [==============================] - 1s 338ms/step - loss: 0.2500 - val_loss: 0.2545\n",
      "Epoch 63/128\n",
      "2/2 [==============================] - 1s 338ms/step - loss: 0.2525 - val_loss: 0.2543\n",
      "Epoch 64/128\n",
      "2/2 [==============================] - 1s 342ms/step - loss: 0.2558 - val_loss: 0.2542\n",
      "Epoch 65/128\n",
      "2/2 [==============================] - 0s 333ms/step - loss: 0.2520 - val_loss: 0.2540\n",
      "Epoch 66/128\n",
      "2/2 [==============================] - 1s 339ms/step - loss: 0.2487 - val_loss: 0.2539\n",
      "Epoch 67/128\n",
      "2/2 [==============================] - 0s 335ms/step - loss: 0.2511 - val_loss: 0.2538\n",
      "Epoch 68/128\n",
      "2/2 [==============================] - 0s 336ms/step - loss: 0.2487 - val_loss: 0.2538\n",
      "Epoch 69/128\n",
      "2/2 [==============================] - 0s 341ms/step - loss: 0.2507 - val_loss: 0.2537\n",
      "Epoch 70/128\n",
      "2/2 [==============================] - 1s 332ms/step - loss: 0.2541 - val_loss: 0.2537\n",
      "Epoch 71/128\n",
      "2/2 [==============================] - 0s 331ms/step - loss: 0.2459 - val_loss: 0.2534\n",
      "Epoch 72/128\n",
      "2/2 [==============================] - 0s 333ms/step - loss: 0.2489 - val_loss: 0.2534\n",
      "Epoch 73/128\n",
      "2/2 [==============================] - 0s 328ms/step - loss: 0.2534 - val_loss: 0.2532\n",
      "Epoch 74/128\n",
      "2/2 [==============================] - 0s 327ms/step - loss: 0.2493 - val_loss: 0.2533\n",
      "Epoch 75/128\n",
      "2/2 [==============================] - 0s 340ms/step - loss: 0.2510 - val_loss: 0.2533\n",
      "Epoch 76/128\n",
      "2/2 [==============================] - 1s 346ms/step - loss: 0.2512 - val_loss: 0.2531\n",
      "Epoch 77/128\n",
      "2/2 [==============================] - 1s 337ms/step - loss: 0.2526 - val_loss: 0.2530\n",
      "Epoch 78/128\n",
      "2/2 [==============================] - 1s 335ms/step - loss: 0.2552 - val_loss: 0.2530\n",
      "Epoch 79/128\n",
      "2/2 [==============================] - 0s 330ms/step - loss: 0.2459 - val_loss: 0.2529\n",
      "Epoch 80/128\n",
      "2/2 [==============================] - 1s 344ms/step - loss: 0.2492 - val_loss: 0.2530\n",
      "Epoch 81/128\n",
      "2/2 [==============================] - 1s 341ms/step - loss: 0.2439 - val_loss: 0.2529\n",
      "Epoch 82/128\n",
      "2/2 [==============================] - 0s 329ms/step - loss: 0.2498 - val_loss: 0.2527\n",
      "Epoch 83/128\n"
     ]
    },
    {
     "name": "stdout",
     "output_type": "stream",
     "text": [
      "2/2 [==============================] - 0s 336ms/step - loss: 0.2489 - val_loss: 0.2529\n",
      "Epoch 84/128\n",
      "2/2 [==============================] - 0s 323ms/step - loss: 0.2465 - val_loss: 0.2529\n",
      "Epoch 85/128\n",
      "2/2 [==============================] - 0s 328ms/step - loss: 0.2525 - val_loss: 0.2527\n",
      "Epoch 86/128\n",
      "2/2 [==============================] - 0s 331ms/step - loss: 0.2502 - val_loss: 0.2526\n",
      "Epoch 87/128\n",
      "2/2 [==============================] - 0s 324ms/step - loss: 0.2460 - val_loss: 0.2529\n",
      "Epoch 88/128\n",
      "2/2 [==============================] - 0s 331ms/step - loss: 0.2464 - val_loss: 0.2527\n",
      "Epoch 89/128\n",
      "2/2 [==============================] - 0s 327ms/step - loss: 0.2467 - val_loss: 0.2525\n",
      "Epoch 90/128\n",
      "2/2 [==============================] - 1s 337ms/step - loss: 0.2496 - val_loss: 0.2524\n",
      "Epoch 91/128\n",
      "2/2 [==============================] - 0s 334ms/step - loss: 0.2460 - val_loss: 0.2525\n",
      "Epoch 92/128\n",
      "2/2 [==============================] - 0s 331ms/step - loss: 0.2480 - val_loss: 0.2525\n",
      "Epoch 93/128\n",
      "2/2 [==============================] - 0s 330ms/step - loss: 0.2503 - val_loss: 0.2524\n",
      "Epoch 94/128\n",
      "2/2 [==============================] - 0s 334ms/step - loss: 0.2458 - val_loss: 0.2523\n",
      "Epoch 95/128\n",
      "2/2 [==============================] - 1s 333ms/step - loss: 0.2463 - val_loss: 0.2525\n",
      "Epoch 96/128\n",
      "2/2 [==============================] - 1s 338ms/step - loss: 0.2527 - val_loss: 0.2524\n",
      "Epoch 97/128\n",
      "2/2 [==============================] - 1s 332ms/step - loss: 0.2501 - val_loss: 0.2522\n",
      "Epoch 98/128\n",
      "2/2 [==============================] - 0s 330ms/step - loss: 0.2509 - val_loss: 0.2522\n",
      "Epoch 99/128\n",
      "2/2 [==============================] - 0s 326ms/step - loss: 0.2484 - val_loss: 0.2522\n",
      "Epoch 100/128\n",
      "2/2 [==============================] - 0s 331ms/step - loss: 0.2474 - val_loss: 0.2525\n",
      "Epoch 101/128\n",
      "2/2 [==============================] - 0s 329ms/step - loss: 0.2514 - val_loss: 0.2523\n",
      "Epoch 102/128\n",
      "2/2 [==============================] - 1s 344ms/step - loss: 0.2478 - val_loss: 0.2521\n",
      "Epoch 103/128\n",
      "2/2 [==============================] - 0s 335ms/step - loss: 0.2459 - val_loss: 0.2521\n",
      "Epoch 104/128\n",
      "2/2 [==============================] - 0s 330ms/step - loss: 0.2464 - val_loss: 0.2523\n",
      "Epoch 105/128\n",
      "2/2 [==============================] - 0s 332ms/step - loss: 0.2496 - val_loss: 0.2522\n",
      "Epoch 106/128\n",
      "2/2 [==============================] - 0s 333ms/step - loss: 0.2440 - val_loss: 0.2520\n",
      "Epoch 107/128\n",
      "2/2 [==============================] - 0s 326ms/step - loss: 0.2558 - val_loss: 0.2520\n",
      "Epoch 108/128\n",
      "2/2 [==============================] - 0s 327ms/step - loss: 0.2514 - val_loss: 0.2520\n",
      "Epoch 109/128\n",
      "2/2 [==============================] - 0s 335ms/step - loss: 0.2477 - val_loss: 0.2520\n",
      "Epoch 110/128\n",
      "2/2 [==============================] - 0s 328ms/step - loss: 0.2500 - val_loss: 0.2520\n",
      "Epoch 111/128\n",
      "2/2 [==============================] - 0s 328ms/step - loss: 0.2488 - val_loss: 0.2520\n",
      "Epoch 112/128\n",
      "2/2 [==============================] - 0s 334ms/step - loss: 0.2435 - val_loss: 0.2519\n",
      "Epoch 113/128\n",
      "2/2 [==============================] - 0s 328ms/step - loss: 0.2464 - val_loss: 0.2519\n",
      "Epoch 114/128\n",
      "2/2 [==============================] - 1s 334ms/step - loss: 0.2475 - val_loss: 0.2518\n",
      "Epoch 115/128\n",
      "2/2 [==============================] - 0s 328ms/step - loss: 0.2443 - val_loss: 0.2518\n",
      "Epoch 116/128\n",
      "2/2 [==============================] - 0s 337ms/step - loss: 0.2469 - val_loss: 0.2518\n",
      "Epoch 117/128\n",
      "2/2 [==============================] - 0s 330ms/step - loss: 0.2501 - val_loss: 0.2518\n",
      "Epoch 118/128\n",
      "2/2 [==============================] - 0s 336ms/step - loss: 0.2495 - val_loss: 0.2517\n",
      "Epoch 119/128\n",
      "2/2 [==============================] - 0s 328ms/step - loss: 0.2538 - val_loss: 0.2517\n",
      "Epoch 120/128\n",
      "2/2 [==============================] - 0s 325ms/step - loss: 0.2462 - val_loss: 0.2517\n",
      "Epoch 121/128\n",
      "2/2 [==============================] - 0s 334ms/step - loss: 0.2469 - val_loss: 0.2517\n",
      "Epoch 122/128\n",
      "2/2 [==============================] - 0s 335ms/step - loss: 0.2525 - val_loss: 0.2517\n",
      "Epoch 123/128\n",
      "2/2 [==============================] - 1s 340ms/step - loss: 0.2451 - val_loss: 0.2517\n",
      "Epoch 124/128\n",
      "2/2 [==============================] - 1s 336ms/step - loss: 0.2447 - val_loss: 0.2517\n",
      "Epoch 125/128\n",
      "2/2 [==============================] - 1s 329ms/step - loss: 0.2503 - val_loss: 0.2516\n",
      "Epoch 126/128\n",
      "2/2 [==============================] - 0s 334ms/step - loss: 0.2464 - val_loss: 0.2517\n",
      "Epoch 127/128\n",
      "2/2 [==============================] - 1s 340ms/step - loss: 0.2501 - val_loss: 0.2516\n",
      "Epoch 128/128\n",
      "2/2 [==============================] - 1s 340ms/step - loss: 0.2466 - val_loss: 0.2516\n"
     ]
    }
   ],
   "source": [
    "validation_split = 0.8\n",
    "history = autoencoder.fit(x_train8, x_test8, epochs = 128, batch_size = 20, shuffle = True, validation_split = validation_split)"
   ]
  },
  {
   "cell_type": "code",
   "execution_count": 179,
   "id": "7c4be7d7",
   "metadata": {},
   "outputs": [
    {
     "name": "stderr",
     "output_type": "stream",
     "text": [
      "2022-11-28 13:12:49.289596: I tensorflow/core/grappler/optimizers/custom_graph_optimizer_registry.cc:112] Plugin optimizer for device_type GPU is enabled.\n"
     ]
    }
   ],
   "source": [
    "denoised_2 = autoencoder.predict(x_train2)"
   ]
  },
  {
   "cell_type": "code",
   "execution_count": 180,
   "id": "aa55354f",
   "metadata": {},
   "outputs": [
    {
     "data": {
      "text/plain": [
       "(35, 256, 256, 1)"
      ]
     },
     "execution_count": 180,
     "metadata": {},
     "output_type": "execute_result"
    }
   ],
   "source": [
    "denoised_2.shape"
   ]
  },
  {
   "cell_type": "code",
   "execution_count": 181,
   "id": "7c42cec7",
   "metadata": {},
   "outputs": [
    {
     "name": "stdout",
     "output_type": "stream",
     "text": [
      "2/2 [==============================] - 0s 66ms/step - loss: 0.2575\n"
     ]
    }
   ],
   "source": [
    "loss = autoencoder.evaluate(x_train2, x_test2, batch_size = 20)"
   ]
  },
  {
   "cell_type": "code",
   "execution_count": 182,
   "id": "8096b178",
   "metadata": {},
   "outputs": [],
   "source": [
    "from skimage import metrics\n"
   ]
  },
  {
   "cell_type": "code",
   "execution_count": 183,
   "id": "53f7782b",
   "metadata": {},
   "outputs": [
    {
     "name": "stdout",
     "output_type": "stream",
     "text": [
      "30.539277398689173\n"
     ]
    }
   ],
   "source": [
    "# calculate denoised PSNR\n",
    "PSNR_linear = metrics.peak_signal_noise_ratio(x_test2, denoised_2)\n",
    "print(PSNR_linear)"
   ]
  },
  {
   "cell_type": "code",
   "execution_count": 184,
   "id": "44549d84",
   "metadata": {},
   "outputs": [
    {
     "name": "stdout",
     "output_type": "stream",
     "text": [
      "52.18691503065663\n"
     ]
    }
   ],
   "source": [
    "# calculate PSNR\n",
    "PSNR_linear = metrics.peak_signal_noise_ratio(x_test2, x_train2)\n",
    "print(PSNR_linear)"
   ]
  },
  {
   "cell_type": "code",
   "execution_count": 185,
   "id": "04f7977a",
   "metadata": {},
   "outputs": [
    {
     "data": {
      "text/plain": [
       "0.0008832268439809461"
      ]
     },
     "execution_count": 185,
     "metadata": {},
     "output_type": "execute_result"
    }
   ],
   "source": [
    "metrics.mean_squared_error(x_test2, denoised_2)"
   ]
  },
  {
   "cell_type": "code",
   "execution_count": 186,
   "id": "4df9c575",
   "metadata": {},
   "outputs": [
    {
     "data": {
      "text/plain": [
       "6.0437779092021544e-06"
      ]
     },
     "execution_count": 186,
     "metadata": {},
     "output_type": "execute_result"
    }
   ],
   "source": [
    "metrics.mean_squared_error(x_test2, x_train2)"
   ]
  },
  {
   "cell_type": "code",
   "execution_count": 202,
   "id": "1c1d4cfe",
   "metadata": {},
   "outputs": [],
   "source": [
    "img = Image.fromarray(x_train2[10,:,:,0], 'RGB')\n",
    "img.show()"
   ]
  },
  {
   "cell_type": "code",
   "execution_count": 200,
   "id": "554e93bf",
   "metadata": {},
   "outputs": [
    {
     "data": {
      "text/plain": [
       "0.96862745"
      ]
     },
     "execution_count": 200,
     "metadata": {},
     "output_type": "execute_result"
    }
   ],
   "source": [
    "np.max(x_train2[10,:,:,0])"
   ]
  },
  {
   "cell_type": "code",
   "execution_count": 187,
   "id": "b855c4ec",
   "metadata": {},
   "outputs": [
    {
     "ename": "ValueError",
     "evalue": "Too many dimensions: 3 > 2.",
     "output_type": "error",
     "traceback": [
      "\u001b[0;31m---------------------------------------------------------------------------\u001b[0m",
      "\u001b[0;31mValueError\u001b[0m                                Traceback (most recent call last)",
      "\u001b[0;32m/var/folders/z0/vp8gzjdd27n87l0v5vwq5g5m0000gn/T/ipykernel_9993/621848507.py\u001b[0m in \u001b[0;36m<module>\u001b[0;34m\u001b[0m\n\u001b[0;32m----> 1\u001b[0;31m \u001b[0mImage\u001b[0m\u001b[0;34m.\u001b[0m\u001b[0mfromarray\u001b[0m\u001b[0;34m(\u001b[0m\u001b[0mx_train\u001b[0m\u001b[0;34m[\u001b[0m\u001b[0;36m1\u001b[0m\u001b[0;34m,\u001b[0m\u001b[0;34m:\u001b[0m\u001b[0;34m,\u001b[0m\u001b[0;34m:\u001b[0m\u001b[0;34m,\u001b[0m\u001b[0;34m]\u001b[0m\u001b[0;34m,\u001b[0m\u001b[0;34m'L'\u001b[0m\u001b[0;34m)\u001b[0m\u001b[0;34m\u001b[0m\u001b[0;34m\u001b[0m\u001b[0m\n\u001b[0m",
      "\u001b[0;32m~/miniforge3/envs/dl-env/lib/python3.9/site-packages/PIL/Image.py\u001b[0m in \u001b[0;36mfromarray\u001b[0;34m(obj, mode)\u001b[0m\n\u001b[1;32m   2845\u001b[0m         \u001b[0mndmax\u001b[0m \u001b[0;34m=\u001b[0m \u001b[0;36m4\u001b[0m\u001b[0;34m\u001b[0m\u001b[0;34m\u001b[0m\u001b[0m\n\u001b[1;32m   2846\u001b[0m     \u001b[0;32mif\u001b[0m \u001b[0mndim\u001b[0m \u001b[0;34m>\u001b[0m \u001b[0mndmax\u001b[0m\u001b[0;34m:\u001b[0m\u001b[0;34m\u001b[0m\u001b[0;34m\u001b[0m\u001b[0m\n\u001b[0;32m-> 2847\u001b[0;31m         \u001b[0;32mraise\u001b[0m \u001b[0mValueError\u001b[0m\u001b[0;34m(\u001b[0m\u001b[0;34mf\"Too many dimensions: {ndim} > {ndmax}.\"\u001b[0m\u001b[0;34m)\u001b[0m\u001b[0;34m\u001b[0m\u001b[0;34m\u001b[0m\u001b[0m\n\u001b[0m\u001b[1;32m   2848\u001b[0m \u001b[0;34m\u001b[0m\u001b[0m\n\u001b[1;32m   2849\u001b[0m     \u001b[0msize\u001b[0m \u001b[0;34m=\u001b[0m \u001b[0;36m1\u001b[0m \u001b[0;32mif\u001b[0m \u001b[0mndim\u001b[0m \u001b[0;34m==\u001b[0m \u001b[0;36m1\u001b[0m \u001b[0;32melse\u001b[0m \u001b[0mshape\u001b[0m\u001b[0;34m[\u001b[0m\u001b[0;36m1\u001b[0m\u001b[0;34m]\u001b[0m\u001b[0;34m,\u001b[0m \u001b[0mshape\u001b[0m\u001b[0;34m[\u001b[0m\u001b[0;36m0\u001b[0m\u001b[0;34m]\u001b[0m\u001b[0;34m\u001b[0m\u001b[0;34m\u001b[0m\u001b[0m\n",
      "\u001b[0;31mValueError\u001b[0m: Too many dimensions: 3 > 2."
     ]
    }
   ],
   "source": [
    "Image.fromarray(x_train[1,:,:,],'L')"
   ]
  },
  {
   "cell_type": "code",
   "execution_count": 160,
   "id": "413654e5",
   "metadata": {},
   "outputs": [
    {
     "data": {
      "text/plain": [
       "9.274685e-13"
      ]
     },
     "execution_count": 160,
     "metadata": {},
     "output_type": "execute_result"
    }
   ],
   "source": []
  },
  {
   "cell_type": "code",
   "execution_count": null,
   "id": "4066b843",
   "metadata": {},
   "outputs": [],
   "source": []
  }
 ],
 "metadata": {
  "kernelspec": {
   "display_name": "Python [conda env:dl-env] *",
   "language": "python",
   "name": "conda-env-dl-env-py"
  },
  "language_info": {
   "codemirror_mode": {
    "name": "ipython",
    "version": 3
   },
   "file_extension": ".py",
   "mimetype": "text/x-python",
   "name": "python",
   "nbconvert_exporter": "python",
   "pygments_lexer": "ipython3",
   "version": "3.9.9"
  }
 },
 "nbformat": 4,
 "nbformat_minor": 5
}
